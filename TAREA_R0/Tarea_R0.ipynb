{
 "cells": [
  {
   "cell_type": "markdown",
   "metadata": {},
   "source": [
    "# TareaR0 "
   ]
  },
  {
   "cell_type": "markdown",
   "metadata": {},
   "source": [
    "**1. Experimenta con los siguientes comandos e interpreta los resultados: **"
   ]
  },
  {
   "cell_type": "markdown",
   "metadata": {},
   "source": [
    "\n",
    "* ** echo hello world:** Nos muestra cualquier argumento en la salida que se le indique.\n",
    "* ** passwd:** Con este comando podemos cambiar la contraseña del usuario.\n",
    "* ** date: ** Nos muestra la fecha actual del sistema.\n",
    "* ** hostname: ** Nos especifica es nombre del host \n",
    "            *  -a. Muestra el alias del host, si existe.\n",
    "            *  -d. Muestra el nombre de dominio DNS.\n",
    "            *  -f. Muestra el fully qualified nombre de dominio.\n",
    "            *  -h. Muestra mensajes de ayuda.\n",
    "            *  -i. Muestra la dirección IP del host.\n",
    "            *  -s. No muestra el nombre de dominio.\n",
    "            \n",
    "* **arch: ** Muestra la arquitectura que tenemos.\n",
    "* **uname -a:  **  Imprime el nombre kernel,del equipo, version del kernel, fecha en que fue apagado el sistema por ultima\n",
    "vez, arquitectura del sistema\n",
    "* **dmesg | more: ** Nos muestra los mensajes que se mostraron en pantalla cuando se arranco el\n",
    "sistema.\n",
    "* **uptime: ** Nos muestra el tiempo que la computadora ha pasado encendida sin ser reiniciada.\n",
    "* **who am i:** Nos muestra el identificador del usuario actual.\n",
    "* **who:** lista los nombres de los usuarios conectados actualmente.\n",
    "* **id:** muestra el identificador actual y real de usuarios y grupos.\n",
    "\n",
    "<img src=\"seunda.png\">\n",
    "\n",
    "* **last:** Muestra las entradas al sistema.\n",
    "* **finger:** Muestra información del usuario. Si somos administradores, entonces como root podemos conocer el nombre de login, el directorio, el nombre completo y otros datos de los usuarios.\n",
    "* **w:** El comando w muestra información sobre los usuarios que están conectados en ese momento a la máquina y sobre sus procesos.\n",
    "* **top:** Nos proporciona información de los procesos que se estan corriendo en ese momento en tiempo real con valors de uso de CPU, memoria, swap y la posibilidad de manupular procesos.\n",
    "\n",
    "<img src=\"tercera.png\">\n",
    "\n",
    "\n"
   ]
  },
  {
   "cell_type": "markdown",
   "metadata": {},
   "source": [
    "** 2. Realiza las siguientes actividades: **"
   ]
  },
  {
   "cell_type": "markdown",
   "metadata": {},
   "source": [
    "* Crea dos directorios llamados a1 y a2 en el directorio /home.\n",
    "\n",
    "claudia@Claudia-HP:~$ mkdir a1\n",
    "\n",
    "claudia@Claudia-HP:~$ mkdir a2\n",
    "\n",
    "* Copia el archivo /etc/passwd al directorio a1 y escribe las primeras 30 lineas del archivo\n",
    "http://lifehacker.com/5633909/who-needs-a-mouse-learn-to-use-the-command-line-for-almost-anything al directorio a2.\n",
    "\n",
    "claudia@Claudia-HP:~$  cp /etc/passwd a1\n",
    "\n",
    "* Usa find para mostrar los nombres de todos los archivos en árbol de directorios de /home.\n",
    "\n",
    "claudia@Claudia-HP:~$ find /home\n",
    "\n",
    "* Usa locate para encontrar todos los nombres de archivos que contengan la palabra commands en el árbol de directorios de /home.\n",
    "\n",
    "claudia@Claudia-HP:~$ locate /home/Claudia/*commands*\n",
    "\n",
    "* Utilice find y grep y sort para mostrar una lista ordenada de todos los archivos en todos los subdirectorios de / home que contienen la palabra commands , R, Pythom en algún lugar dentro de ellos.\n",
    "\n",
    "claudia@Claudia-HP:~$ find /home | grep -v -e -i \"commands\" -e \"python\" -e \"R\"|sort\n",
    "\n",
    "\n",
    "\n"
   ]
  },
  {
   "cell_type": "markdown",
   "metadata": {},
   "source": [
    "\n",
    "\n",
    "** 3.Ejecuta el siguiente script y explica que es lo que hace **"
   ]
  },
  {
   "cell_type": "code",
   "execution_count": null,
   "metadata": {
    "collapsed": true
   },
   "outputs": [],
   "source": [
    "#!/bin/sh\n",
    "for f in $*\n",
    "do\n",
    "  if [ -f  $f -a  ! -x  $f ]\n",
    "  then\n",
    "    case $f in\n",
    "    core)\n",
    "      echo \"$f: archivo de memoria\"\n",
    "      ;;\n",
    "    *.c)\n",
    "     echo \"$f: un programa en C\"\n",
    "      ;;\n",
    "    *.cpp|*.cc|*.cxx)\n",
    "      echo \"$f: un programa en C+\"\n",
    "      ;;\n",
    "    *.txt)\n",
    "      echo \"$f: un archivo de texto\"\n",
    "      ;;\n",
    "    *.pl)\n",
    "      echo \"$f: un script de Perl\"\n",
    "      ;;\n",
    "    *.html|*.htm)\n",
    "      echo \"$f: un documento web\"\n",
    "      ;;\n",
    "    *)\n",
    "      echo \"$f: aparece ser  \"`file -b $f`\n",
    "      ;;\n",
    "    esac\n",
    "  fi\n",
    "done"
   ]
  },
  {
   "cell_type": "markdown",
   "metadata": {},
   "source": [
    "Este script nos indica que tipo de archivo es el que pasas como argumento. "
   ]
  },
  {
   "cell_type": "markdown",
   "metadata": {},
   "source": [
    "** 4.Sigue los siguientes pasos para ejecutar el siguiente script llamado bash_script:**"
   ]
  },
  {
   "cell_type": "code",
   "execution_count": null,
   "metadata": {
    "collapsed": true
   },
   "outputs": [],
   "source": [
    "#!/bin/sh\n",
    "# este es un comentario\n",
    "echo \"El numero de argumentos es  $#\"\n",
    "echo \"Los argumentos son $*\"\n",
    "echo \"El primero es $1\"\n",
    "echo \"Mi numero de proceso es  $$\"\n",
    "echo \"Ingresa un numero desde el teclado: \"\n",
    "read numero\n",
    "echo \"El numero que has ingresado es $numero\"\n",
    "\n",
    "Para ejecutar el script se realiza lo siguiente:\n",
    "\n",
    "ls -l bash_script\n",
    "chmod +x bash_script\n",
    "ls -l bash_script\n",
    "./bash_script hola a todos"
   ]
  },
  {
   "cell_type": "markdown",
   "metadata": {},
   "source": [
    "<img src=\"cuarta.png\",width=1160,height=60>"
   ]
  },
  {
   "cell_type": "markdown",
   "metadata": {},
   "source": [
    "** 5.Prueba en secuencia los siguientes comandos y explica tus pasos**\n",
    "\n"
   ]
  },
  {
   "cell_type": "markdown",
   "metadata": {},
   "source": [
    "* ** cd: ** Change directory, con este comando nos cambia la direccion a /home/claudia.\n",
    "* ** pwd: ** Nos muestra la ruta en donde estamos.\n",
    "* **ls -al: ** Nos muestra los files de nuestro directorio /home/claudia con sus respectivos atributos.\n",
    "* **cd . :**\n",
    "* **pwd: ** ahora nos vuelve a mostrar la ruta /home/claudia.\n",
    "* **cd .. :** cambiamos de directorio a /home.\n",
    "* **pwd :** /home.\n",
    "* ** ls -al:**  nos muestra los files en /home con sus atributos.\n",
    "* ** cd ..:** cambiamos de directorio al directorio raiz /\n",
    "* ** pwd:** Nos muestra /\n",
    "* ** cd /etc ** cambiamos de directorio a etc.\n",
    "* ** ls -al | more ** \n",
    "* ** cat passwd :** Nos muestra el contenido del archivo passwd\n",
    "* ** cd - ** Nos dirige al directorio raiz\n",
    "* **pwd:** Nos muestra que estamos en la ruta /.\n",
    "\n",
    "<img src=\"quinta.png\">\n",
    "<img src=\"sexta.png\">\n",
    "<img src=\"setima.png\">\n",
    "\n",
    "\n",
    "\n",
    "\n"
   ]
  },
  {
   "cell_type": "markdown",
   "metadata": {},
   "source": [
    "** 6.  Revisa el archivo chipotle.tsv dentro del repositorio del curso, en la carpeta donde se aloja esta tarea. Piensa un minuto en cómo se estructuran los datos. ¿Qué crees que significa cada columna? ¿Qué crees que significa cada fila?. Responde las siguientes preguntas.**"
   ]
  },
  {
   "cell_type": "markdown",
   "metadata": {},
   "source": [
    "**¿Cuántas órdenes aparecen en el archivo?**\n",
    "  \n",
    "  1834 órdenes.\n",
    "\n",
    "**¿Cuántas líneas hay en este archivo?**\n",
    "  \n",
    "  Usando el comando:\n",
    "  \n",
    "  wc -l chipotle.tsv \n",
    "  \n",
    "  Hay 4623 líneas.\n",
    "\n",
    "**¿Qué burrito es más popular, el de carne o pollo?**\n",
    " \n",
    "  Usaremos el comando GREP para averiguar esto, como sabemos que hay 2 tipos de burrito entonces:\n",
    " \n",
    "  grep \"Chicken Burrito\" chipotle.tsv | wc -l     #nos da como resultado 553\n",
    "  \n",
    "  grep \"Steak Burrito\" chipotle.tsv | wc -l       #nos da como resultado 368\n",
    "\n",
    "Entonces el burrito mas popular es \"Chicken Burrito\".\n",
    "  \n"
   ]
  }
 ],
 "metadata": {
  "kernelspec": {
   "display_name": "R",
   "language": "R",
   "name": "ir"
  },
  "language_info": {
   "codemirror_mode": "r",
   "file_extension": ".r",
   "mimetype": "text/x-r-source",
   "name": "R",
   "pygments_lexer": "r",
   "version": "3.3.2"
  }
 },
 "nbformat": 4,
 "nbformat_minor": 2
}
